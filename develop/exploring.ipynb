{
 "cells": [
  {
   "cell_type": "code",
   "execution_count": 2,
   "metadata": {},
   "outputs": [],
   "source": [
    "import sys\n",
    "sys.path.append('../')\n",
    "\n",
    "from src.model.extract.scraper import modelScraper\n",
    "from src.model.transform.transform_scraper_data import transformScraperData\n",
    "from src.view.basic_plots import BasicPlots\n",
    "\n",
    "import pandas as pd\n",
    "from bs4 import BeautifulSoup"
   ]
  },
  {
   "cell_type": "code",
   "execution_count": 3,
   "metadata": {},
   "outputs": [],
   "source": [
    "html_soup = transformScraperData.html_parser(modelScraper.get_generical_page(\"https://pt.wikipedia.org/wiki/Enciclop%C3%A9dia\").content)"
   ]
  },
  {
   "cell_type": "code",
   "execution_count": 28,
   "metadata": {},
   "outputs": [
    {
     "name": "stdout",
     "output_type": "stream",
     "text": [
      "Encontre fontes:\n",
      "(Dezembro de 2019)\n",
      "enkyklopaideía\n",
      "internet\n",
      "genéricas\n",
      "enciclopédia\n",
      "\"enkyklios paideia\"\n",
      "Lucubrationes vel potius absolutissima kyklopaideia\n",
      "Encyclopaedia seu orbis disciplinarum tam sacrarum quam prophanarum epistemon\n",
      "Pantagruel\n"
     ]
    }
   ],
   "source": [
    "for i in range(0, 10):\n",
    "    print(html_soup.find_all('i')[i].get_text().replace(\"[editar | editar código-fonte]\", \"\"))"
   ]
  }
 ],
 "metadata": {
  "kernelspec": {
   "display_name": "Python 3.10.8 64-bit (microsoft store)",
   "language": "python",
   "name": "python3"
  },
  "language_info": {
   "codemirror_mode": {
    "name": "ipython",
    "version": 3
   },
   "file_extension": ".py",
   "mimetype": "text/x-python",
   "name": "python",
   "nbconvert_exporter": "python",
   "pygments_lexer": "ipython3",
   "version": "3.10.8"
  },
  "orig_nbformat": 4,
  "vscode": {
   "interpreter": {
    "hash": "647f9984bcb5530cf62b5d156708033196a740eee563f03b2d170d8f0eb6f794"
   }
  }
 },
 "nbformat": 4,
 "nbformat_minor": 2
}
