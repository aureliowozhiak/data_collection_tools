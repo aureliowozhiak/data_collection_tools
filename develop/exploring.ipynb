{
 "cells": [
  {
   "cell_type": "code",
   "execution_count": 3,
   "metadata": {},
   "outputs": [],
   "source": []
  },
  {
   "cell_type": "code",
   "execution_count": 31,
   "metadata": {},
   "outputs": [],
   "source": [
    "import sys\n",
    "sys.path.append(\"../\")\n",
    "\n",
    "from src.controller.extract.scraper import controllerScraper\n",
    "\n",
    "from model.extract.scraper import modelScraper\n",
    "from view.web.extract.scraper import viewScraper\n",
    "from model.transform.transform_scraper_data import transformScraperData\n",
    "import json"
   ]
  },
  {
   "cell_type": "code",
   "execution_count": 130,
   "metadata": {},
   "outputs": [],
   "source": [
    "query = \"batata\"\n",
    "input_value = f\"https://api.duckduckgo.com/?q={query}&format=json\"\n",
    "page_content = modelScraper.get_data_from_page(input_value)\n",
    "html_soup = transformScraperData.html_parser(page_content)\n"
   ]
  },
  {
   "cell_type": "code",
   "execution_count": 131,
   "metadata": {},
   "outputs": [],
   "source": [
    "\n",
    "input_value = f\"https://github.com/aureliowozhiak/data_collection_tools\"\n",
    "page_content = modelScraper.get_data_from_page(input_value)\n",
    "html_soup = transformScraperData.html_parser(page_content)\n",
    "\n"
   ]
  },
  {
   "cell_type": "code",
   "execution_count": 135,
   "metadata": {},
   "outputs": [],
   "source": []
  }
 ],
 "metadata": {
  "kernelspec": {
   "display_name": "Python 3.10.8 64-bit (microsoft store)",
   "language": "python",
   "name": "python3"
  },
  "language_info": {
   "codemirror_mode": {
    "name": "ipython",
    "version": 3
   },
   "file_extension": ".py",
   "mimetype": "text/x-python",
   "name": "python",
   "nbconvert_exporter": "python",
   "pygments_lexer": "ipython3",
   "version": "3.10.8"
  },
  "orig_nbformat": 4,
  "vscode": {
   "interpreter": {
    "hash": "e0acaf148705ed9ed86cc5cad12259d7985e30670e5686e5f55604a9b3b84a55"
   }
  }
 },
 "nbformat": 4,
 "nbformat_minor": 2
}
