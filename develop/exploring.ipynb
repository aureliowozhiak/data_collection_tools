{
 "cells": [
  {
   "cell_type": "code",
   "execution_count": 1,
   "metadata": {},
   "outputs": [],
   "source": [
    "import sys\n",
    "sys.path.append('../')\n",
    "\n",
    "from src.model.extract.scraper import modelScraper\n",
    "from src.model.transform.transform_scraper_data import transformScraperData\n",
    "from src.view.basic_plots import BasicPlots\n",
    "\n",
    "import pandas as pd\n",
    "from bs4 import BeautifulSoup"
   ]
  },
  {
   "cell_type": "code",
   "execution_count": 18,
   "metadata": {},
   "outputs": [],
   "source": [
    "url = \"https://pt.wikipedia.org/wiki/Crescimento_populacional#:~:text=Segundo%20estimativas%20da%20Organiza%C3%A7%C3%A3o%20das,0%2C33%25%20ao%20ano.\"\n",
    "html_soup = transformScraperData.html_parser(modelScraper.get_generical_page(url).content)"
   ]
  },
  {
   "cell_type": "code",
   "execution_count": 22,
   "metadata": {},
   "outputs": [
    {
     "name": "stdout",
     "output_type": "stream",
     "text": [
      "https://developer.wikimedia.org\n"
     ]
    }
   ],
   "source": [
    "links = transformScraperData.get_all_links(html_soup)['href']\n",
    "for link in links:\n",
    "    if link.count(\"develop\") > 0:\n",
    "        print(link)"
   ]
  },
  {
   "cell_type": "code",
   "execution_count": 17,
   "metadata": {},
   "outputs": [
    {
     "data": {
      "text/plain": [
       "1"
      ]
     },
     "execution_count": 17,
     "metadata": {},
     "output_type": "execute_result"
    }
   ],
   "source": [
    "link.count(\"new\")"
   ]
  },
  {
   "cell_type": "code",
   "execution_count": 4,
   "metadata": {},
   "outputs": [],
   "source": [
    "import requests\n",
    "import json\n",
    "import pandas as pd"
   ]
  },
  {
   "cell_type": "code",
   "execution_count": 84,
   "metadata": {},
   "outputs": [],
   "source": [
    "import requests\n",
    "\n",
    "def get_content_from_user(user):\n",
    "    r = requests.get(f\"https://www.tabnews.com.br/api/v1/contents/{user}\")\n",
    "\n",
    "    all_user_content = json.loads(r.text)\n",
    "\n",
    "    \n",
    "    post_content = []\n",
    "\n",
    "    for content in all_user_content:\n",
    "        if content['title'] and content['status'] == 'published':\n",
    "           post_content.append(content)\n",
    "\n",
    "    return post_content\n",
    "\n",
    "\n",
    " "
   ]
  },
  {
   "cell_type": "code",
   "execution_count": 85,
   "metadata": {},
   "outputs": [
    {
     "data": {
      "text/plain": [
       "[{'id': '5789186e-aeb9-4fe1-843e-b989ee5dde5f',\n",
       "  'owner_id': 'f3cf10e8-d6ef-4624-b38b-d42fd62b07c6',\n",
       "  'parent_id': None,\n",
       "  'slug': 'curiosidade-conteudos-na-area-de-dados',\n",
       "  'title': '[Curiosidade] Conteúdos na área de dados',\n",
       "  'status': 'published',\n",
       "  'source_url': None,\n",
       "  'created_at': '2022-11-22T20:50:28.626Z',\n",
       "  'updated_at': '2022-11-22T20:50:28.626Z',\n",
       "  'published_at': '2022-11-22T20:50:28.647Z',\n",
       "  'deleted_at': None,\n",
       "  'owner_username': 'aureliowozhiak',\n",
       "  'tabcoins': 2,\n",
       "  'children_deep_count': 5}]"
      ]
     },
     "execution_count": 85,
     "metadata": {},
     "output_type": "execute_result"
    }
   ],
   "source": [
    "get_content_from_user(\"aureliowozhiak\")"
   ]
  },
  {
   "cell_type": "code",
   "execution_count": null,
   "metadata": {},
   "outputs": [],
   "source": [
    "def get_content_from_slug(user, slug):\n",
    "    r = requests.get(f\"https://www.tabnews.com.br/api/v1/contents/{user}/{slug}\")\n",
    "\n",
    "    all_user_content = json.loads(r.text)"
   ]
  }
 ],
 "metadata": {
  "kernelspec": {
   "display_name": "Python 3.10.8 64-bit (microsoft store)",
   "language": "python",
   "name": "python3"
  },
  "language_info": {
   "codemirror_mode": {
    "name": "ipython",
    "version": 3
   },
   "file_extension": ".py",
   "mimetype": "text/x-python",
   "name": "python",
   "nbconvert_exporter": "python",
   "pygments_lexer": "ipython3",
   "version": "3.10.8"
  },
  "orig_nbformat": 4,
  "vscode": {
   "interpreter": {
    "hash": "647f9984bcb5530cf62b5d156708033196a740eee563f03b2d170d8f0eb6f794"
   }
  }
 },
 "nbformat": 4,
 "nbformat_minor": 2
}
