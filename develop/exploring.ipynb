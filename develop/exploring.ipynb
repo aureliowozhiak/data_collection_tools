{
 "cells": [
  {
   "cell_type": "code",
   "execution_count": 7,
   "metadata": {},
   "outputs": [
    {
     "ename": "FileNotFoundError",
     "evalue": "[Errno 2] No such file or directory: 'src/js/tabletools.js'",
     "output_type": "error",
     "traceback": [
      "\u001b[1;31m---------------------------------------------------------------------------\u001b[0m",
      "\u001b[1;31mFileNotFoundError\u001b[0m                         Traceback (most recent call last)",
      "Cell \u001b[1;32mIn [7], line 4\u001b[0m\n\u001b[0;32m      1\u001b[0m \u001b[39mimport\u001b[39;00m \u001b[39msys\u001b[39;00m\n\u001b[0;32m      2\u001b[0m sys\u001b[39m.\u001b[39mpath\u001b[39m.\u001b[39mappend(\u001b[39m'\u001b[39m\u001b[39m../\u001b[39m\u001b[39m'\u001b[39m)\n\u001b[1;32m----> 4\u001b[0m \u001b[39mfrom\u001b[39;00m \u001b[39msrc\u001b[39;00m\u001b[39m.\u001b[39;00m\u001b[39mcontroller\u001b[39;00m\u001b[39m.\u001b[39;00m\u001b[39mextract\u001b[39;00m\u001b[39m.\u001b[39;00m\u001b[39mscraper\u001b[39;00m \u001b[39mimport\u001b[39;00m controllerScraper\n",
      "File \u001b[1;32mc:\\Users\\aurel\\OneDrive\\Área de Trabalho\\repo\\data_collection_tools\\develop\\..\\src\\controller\\extract\\scraper.py:8\u001b[0m\n\u001b[0;32m      5\u001b[0m sys\u001b[39m.\u001b[39mpath\u001b[39m.\u001b[39mappend(\u001b[39m'\u001b[39m\u001b[39m../src/\u001b[39m\u001b[39m'\u001b[39m)\n\u001b[0;32m      7\u001b[0m \u001b[39mfrom\u001b[39;00m \u001b[39mmodel\u001b[39;00m\u001b[39m.\u001b[39;00m\u001b[39mextract\u001b[39;00m\u001b[39m.\u001b[39;00m\u001b[39mscraper\u001b[39;00m \u001b[39mimport\u001b[39;00m modelScraper\n\u001b[1;32m----> 8\u001b[0m \u001b[39mfrom\u001b[39;00m \u001b[39mview\u001b[39;00m\u001b[39m.\u001b[39;00m\u001b[39mweb\u001b[39;00m\u001b[39m.\u001b[39;00m\u001b[39mextract\u001b[39;00m\u001b[39m.\u001b[39;00m\u001b[39mscraper\u001b[39;00m \u001b[39mimport\u001b[39;00m viewScraper\n\u001b[0;32m      9\u001b[0m \u001b[39mfrom\u001b[39;00m \u001b[39mmodel\u001b[39;00m\u001b[39m.\u001b[39;00m\u001b[39mtransform\u001b[39;00m\u001b[39m.\u001b[39;00m\u001b[39mtransform_scraper_data\u001b[39;00m \u001b[39mimport\u001b[39;00m transformScraperData\n\u001b[0;32m     11\u001b[0m \u001b[39mclass\u001b[39;00m \u001b[39mcontrollerScraper\u001b[39;00m:\n",
      "File \u001b[1;32mc:\\Users\\aurel\\OneDrive\\Área de Trabalho\\repo\\data_collection_tools\\develop\\../src\\view\\web\\extract\\scraper.py:12\u001b[0m\n\u001b[0;32m      7\u001b[0m \u001b[39mfrom\u001b[39;00m \u001b[39msrc\u001b[39;00m\u001b[39m.\u001b[39;00m\u001b[39mmodel\u001b[39;00m\u001b[39m.\u001b[39;00m\u001b[39mextract\u001b[39;00m\u001b[39m.\u001b[39;00m\u001b[39mscraper\u001b[39;00m \u001b[39mimport\u001b[39;00m modelScraper\n\u001b[0;32m      8\u001b[0m \u001b[39mimport\u001b[39;00m \u001b[39mos\u001b[39;00m\n\u001b[1;32m---> 12\u001b[0m tabletools_js \u001b[39m=\u001b[39m \u001b[39mopen\u001b[39;49m(\u001b[39m'\u001b[39;49m\u001b[39msrc/js/tabletools.js\u001b[39;49m\u001b[39m'\u001b[39;49m, \u001b[39m'\u001b[39;49m\u001b[39mr\u001b[39;49m\u001b[39m'\u001b[39;49m)\u001b[39m.\u001b[39mread()\n\u001b[0;32m     14\u001b[0m \u001b[39mclass\u001b[39;00m \u001b[39mviewScraper\u001b[39;00m:\n\u001b[0;32m     17\u001b[0m     \u001b[39mdef\u001b[39;00m \u001b[39m__init__\u001b[39m(\u001b[39mself\u001b[39m):\n",
      "\u001b[1;31mFileNotFoundError\u001b[0m: [Errno 2] No such file or directory: 'src/js/tabletools.js'"
     ]
    }
   ],
   "source": [
    "import sys\n",
    "sys.path.append('../src/')\n",
    "\n",
    "from controller.extract.scraper import controllerScraper"
   ]
  },
  {
   "cell_type": "code",
   "execution_count": null,
   "metadata": {},
   "outputs": [],
   "source": []
  }
 ],
 "metadata": {
  "kernelspec": {
   "display_name": "Python 3.10.8 64-bit (microsoft store)",
   "language": "python",
   "name": "python3"
  },
  "language_info": {
   "codemirror_mode": {
    "name": "ipython",
    "version": 3
   },
   "file_extension": ".py",
   "mimetype": "text/x-python",
   "name": "python",
   "nbconvert_exporter": "python",
   "pygments_lexer": "ipython3",
   "version": "3.10.8"
  },
  "orig_nbformat": 4,
  "vscode": {
   "interpreter": {
    "hash": "647f9984bcb5530cf62b5d156708033196a740eee563f03b2d170d8f0eb6f794"
   }
  }
 },
 "nbformat": 4,
 "nbformat_minor": 2
}
