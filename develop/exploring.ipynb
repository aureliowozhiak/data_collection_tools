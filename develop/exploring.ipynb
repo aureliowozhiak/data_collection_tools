{
 "cells": [
  {
   "cell_type": "code",
   "execution_count": 1,
   "metadata": {},
   "outputs": [
    {
     "name": "stdout",
     "output_type": "stream",
     "text": [
      "Teste\n"
     ]
    }
   ],
   "source": [
    "print(\"Teste\")"
   ]
  },
  {
   "cell_type": "code",
   "execution_count": 2,
   "metadata": {},
   "outputs": [],
   "source": [
    "import sys\n",
    "sys.path.append(\"../\")\n",
    "\n",
    "from src.controller.extract.scraper import controllerScraper\n",
    "\n",
    "from model.extract.scraper import modelScraper\n",
    "from view.web.extract.scraper import viewScraper\n",
    "from model.transform.transform_scraper_data import transformScraperData\n",
    "from model.transform.transform_numbers import TransformNumbers\n",
    "from view.basic_plots import BasicPlots\n",
    "import json"
   ]
  },
  {
   "cell_type": "code",
   "execution_count": 3,
   "metadata": {},
   "outputs": [],
   "source": [
    "input_value = \"https://pt.wikipedia.org/wiki/Java\"\n",
    "page_content = modelScraper.get_data_from_page(input_value)\n",
    "html_soup = transformScraperData.html_parser(page_content)"
   ]
  },
  {
   "cell_type": "code",
   "execution_count": 4,
   "metadata": {},
   "outputs": [
    {
     "data": {
      "text/html": [
       "<div>\n",
       "<style scoped>\n",
       "    .dataframe tbody tr th:only-of-type {\n",
       "        vertical-align: middle;\n",
       "    }\n",
       "\n",
       "    .dataframe tbody tr th {\n",
       "        vertical-align: top;\n",
       "    }\n",
       "\n",
       "    .dataframe thead th {\n",
       "        text-align: right;\n",
       "    }\n",
       "</style>\n",
       "<table border=\"1\" class=\"dataframe\">\n",
       "  <thead>\n",
       "    <tr style=\"text-align: right;\">\n",
       "      <th></th>\n",
       "      <th>Província</th>\n",
       "      <th>Capital</th>\n",
       "      <th>Área (km²)</th>\n",
       "      <th>N.º de habitantes(2014)</th>\n",
       "      <th>Densidade pop.(hab./km²)</th>\n",
       "    </tr>\n",
       "  </thead>\n",
       "  <tbody>\n",
       "    <tr>\n",
       "      <th>0</th>\n",
       "      <td>Banten</td>\n",
       "      <td>Serang</td>\n",
       "      <td>9 662,92</td>\n",
       "      <td>11 834 087</td>\n",
       "      <td>1 224,7</td>\n",
       "    </tr>\n",
       "    <tr>\n",
       "      <th>1</th>\n",
       "      <td>Java Ocidental</td>\n",
       "      <td>Bandungue</td>\n",
       "      <td>35 377,76</td>\n",
       "      <td>46 029 668</td>\n",
       "      <td>1 301,1</td>\n",
       "    </tr>\n",
       "    <tr>\n",
       "      <th>2</th>\n",
       "      <td>Java Central</td>\n",
       "      <td>Semarang</td>\n",
       "      <td>32 800,69</td>\n",
       "      <td>33 753 023</td>\n",
       "      <td>1 029</td>\n",
       "    </tr>\n",
       "    <tr>\n",
       "      <th>3</th>\n",
       "      <td>Java Oriental [♦]</td>\n",
       "      <td>Surabaia</td>\n",
       "      <td>47 799,75</td>\n",
       "      <td>38 529 481</td>\n",
       "      <td>8061</td>\n",
       "    </tr>\n",
       "    <tr>\n",
       "      <th>4</th>\n",
       "      <td>Jacarta (reg. esp.)</td>\n",
       "      <td>-</td>\n",
       "      <td>6615</td>\n",
       "      <td>9 607 787</td>\n",
       "      <td>14 524,2</td>\n",
       "    </tr>\n",
       "    <tr>\n",
       "      <th>5</th>\n",
       "      <td>Jogjacarta (reg. esp.)</td>\n",
       "      <td>Jogjacarta</td>\n",
       "      <td>3 133,15</td>\n",
       "      <td>3 594 290</td>\n",
       "      <td>1 147,2</td>\n",
       "    </tr>\n",
       "  </tbody>\n",
       "</table>\n",
       "</div>"
      ],
      "text/plain": [
       "                Província     Capital Área (km²) N.º de habitantes(2014)  \\\n",
       "0                  Banten      Serang   9 662,92              11 834 087   \n",
       "1          Java Ocidental   Bandungue  35 377,76              46 029 668   \n",
       "2            Java Central    Semarang  32 800,69              33 753 023   \n",
       "3       Java Oriental [♦]    Surabaia  47 799,75              38 529 481   \n",
       "4     Jacarta (reg. esp.)           -       6615               9 607 787   \n",
       "5  Jogjacarta (reg. esp.)  Jogjacarta   3 133,15               3 594 290   \n",
       "\n",
       "  Densidade pop.(hab./km²)  \n",
       "0                  1 224,7  \n",
       "1                  1 301,1  \n",
       "2                    1 029  \n",
       "3                     8061  \n",
       "4                 14 524,2  \n",
       "5                  1 147,2  "
      ]
     },
     "execution_count": 4,
     "metadata": {},
     "output_type": "execute_result"
    }
   ],
   "source": [
    "df = modelScraper.get_tables(input_value)[2]\n",
    "df"
   ]
  },
  {
   "cell_type": "code",
   "execution_count": 5,
   "metadata": {},
   "outputs": [],
   "source": [
    "ylabel = 'Capital'\n",
    "xlabel = 'Área (km²)'"
   ]
  },
  {
   "cell_type": "code",
   "execution_count": 6,
   "metadata": {},
   "outputs": [],
   "source": [
    "df = TransformNumbers.convert_generical_text_in_number(df)\n",
    "X = df[ylabel]\n",
    "y = df[xlabel]"
   ]
  },
  {
   "cell_type": "code",
   "execution_count": 11,
   "metadata": {},
   "outputs": [],
   "source": [
    "import io\n",
    "from PIL import Image"
   ]
  },
  {
   "cell_type": "code",
   "execution_count": null,
   "metadata": {},
   "outputs": [],
   "source": [
    "plot_image = BasicPlots.bar_graph(X, y, xlabel, ylabel)"
   ]
  },
  {
   "cell_type": "code",
   "execution_count": 54,
   "metadata": {},
   "outputs": [
    {
     "data": {
      "image/png": "[encoded data removed]",
      "text/plain": [
       "<Figure size 640x480 with 1 Axes>"
      ]
     },
     "metadata": {},
     "output_type": "display_data"
    }
   ],
   "source": [
    "import matplotlib.pyplot as plt      \n",
    "\n",
    "import uuid\n",
    "\n",
    "\n",
    "def generate_image(plot_image):\n",
    "    file_name = uuid.uuid4()\n",
    "    file_path = f\"../src/view/web/tmp_files/{file_name}.svg\"\n",
    "\n",
    "    plot_image.savefig(file_path, format=\"svg\")\n",
    "\n",
    "    return file_path"
   ]
  },
  {
   "cell_type": "code",
   "execution_count": 43,
   "metadata": {},
   "outputs": [],
   "source": [
    "import os"
   ]
  },
  {
   "cell_type": "code",
   "execution_count": 52,
   "metadata": {},
   "outputs": [
    {
     "data": {
      "text/plain": [
       "[]"
      ]
     },
     "execution_count": 52,
     "metadata": {},
     "output_type": "execute_result"
    }
   ],
   "source": [
    "os.listdir()"
   ]
  },
  {
   "cell_type": "code",
   "execution_count": 39,
   "metadata": {},
   "outputs": [
    {
     "data": {
      "image/png": "[encoded data removed]",
      "text/plain": [
       "<Figure size 640x480 with 1 Axes>"
      ]
     },
     "metadata": {},
     "output_type": "display_data"
    }
   ],
   "source": [
    "plt_objt = BasicPlots.bar_graph(X, y, xlabel, ylabel)\n",
    "\n",
    "\n",
    "img_buf = io.BytesIO()\n",
    "plt_objt.savefig(img_buf, format='png')\n",
    "im = Image.open(img_buf)\n",
    "im.show()\n",
    "img_buf.close()"
   ]
  },
  {
   "cell_type": "code",
   "execution_count": 37,
   "metadata": {},
   "outputs": [
    {
     "data": {
      "text/plain": [
       "<Figure size 640x480 with 0 Axes>"
      ]
     },
     "metadata": {},
     "output_type": "display_data"
    }
   ],
   "source": [
    "open_image(plt_objt)"
   ]
  }
 ],
 "metadata": {
  "kernelspec": {
   "display_name": "Python 3.10.8 64-bit (microsoft store)",
   "language": "python",
   "name": "python3"
  },
  "language_info": {
   "codemirror_mode": {
    "name": "ipython",
    "version": 3
   },
   "file_extension": ".py",
   "mimetype": "text/x-python",
   "name": "python",
   "nbconvert_exporter": "python",
   "pygments_lexer": "ipython3",
   "version": "3.10.8"
  },
  "orig_nbformat": 4,
  "vscode": {
   "interpreter": {
    "hash": "e0acaf148705ed9ed86cc5cad12259d7985e30670e5686e5f55604a9b3b84a55"
   }
  }
 },
 "nbformat": 4,
 "nbformat_minor": 2
}
